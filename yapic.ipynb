{
 "cells": [
  {
   "cell_type": "markdown",
   "id": "11a9cd6a-dcbc-44da-8939-78ff17aba86d",
   "metadata": {},
   "source": [
    "# **Libraries import**"
   ]
  },
  {
   "cell_type": "code",
   "execution_count": null,
   "id": "987ffbb6-29ca-4a69-b0cb-2064265762ab",
   "metadata": {},
   "outputs": [],
   "source": [
    "import os\n",
    "import numpy as np\n",
    "from pathlib import Path\n",
    "from tifffile import imread, imwrite"
   ]
  },
  {
   "cell_type": "markdown",
   "id": "923f1ab0-5f08-4520-ae8b-d1a66d7da0b6",
   "metadata": {},
   "source": [
    "# **Prepare dataset**"
   ]
  },
  {
   "cell_type": "code",
   "execution_count": null,
   "id": "fee8e434-6681-4df0-a362-72aed9dc9e90",
   "metadata": {},
   "outputs": [],
   "source": [
    "class Prepare_dataset():\n",
    "\n",
    "    def __init__(self):\n",
    "        self.dataset_path = dataset_path\n",
    "        self.image_path = image_path\n",
    "        self.labels_path = labels_path\n",
    "\n",
    "    def create_dataset_dir(dataset_path):\n",
    "        if not os.path.exists(dataset_path):\n",
    "            os.mkdir(dataset_path)\n",
    "            os.mkdir(dataset_path/'input')\n",
    "            os.mkdir(dataset_path/'target')\n",
    "            os.mkdir(dataset_path/'raw')\n",
    "            os.mkdir(dataset_path/'predict')\n",
    "\n",
    "    def create_dataset(image_path, labels_path):\n",
    "        image = imread(image_path)\n",
    "        labels = imread(labels_path)\n",
    "        for i, t in enumerate(labels):\n",
    "            if 1 in t:\n",
    "                # Modify this line according to labels\n",
    "                t[t==0] = 3\n",
    "                imwrite(dataset_path/'input'/(str(i)+'.tif'), image[i].astype(np.uint8), dtype = np.uint8)\n",
    "                imwrite(dataset_path/'target'/(str(i)+'.tif'), t.astype(np.uint8), dtype = np.uint8)\n",
    "            imwrite(dataset_path/'raw'/(str(i)+'.tif'), image[i].astype(np.uint8), dtype = np.uint8)"
   ]
  }
 ],
 "metadata": {
  "kernelspec": {
   "display_name": "Python 3",
   "language": "python",
   "name": "python3"
  },
  "language_info": {
   "codemirror_mode": {
    "name": "ipython",
    "version": 3
   },
   "file_extension": ".py",
   "mimetype": "text/x-python",
   "name": "python",
   "nbconvert_exporter": "python",
   "pygments_lexer": "ipython3",
   "version": "3.6.13"
  }
 },
 "nbformat": 4,
 "nbformat_minor": 5
}
